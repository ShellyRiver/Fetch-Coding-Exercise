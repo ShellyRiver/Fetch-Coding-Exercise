{
 "cells": [
  {
   "cell_type": "code",
   "execution_count": 109,
   "id": "25656a75",
   "metadata": {},
   "outputs": [],
   "source": [
    "import pandas as pd\n",
    "import sys"
   ]
  },
  {
   "cell_type": "code",
   "execution_count": 113,
   "id": "56e781e4",
   "metadata": {},
   "outputs": [],
   "source": [
    "def main():\n",
    "    # read argument and check\n",
    "    n = len(sys.argv)\n",
    "    if n != 2: \n",
    "        raise ValueError(\"Invalid Input\")\n",
    "    input_cost = -sys.argv[1]\n",
    "    if ((not input_cost.isnumeric()) or input_cost <= 0):\n",
    "        raise ValueError(\"Invalid Input\")\n",
    "        \n",
    "    data = pd.read_csv('transactions.csv')\n",
    "    data = data.sort_values(by=['timestamp']).copy()\n",
    "    \n",
    "    # get the set of payers\n",
    "    payers = set(data['payer'].tolist())\n",
    "\n",
    "    # extract all the cost in the file\n",
    "    cost = data[data['points'] < 0]\n",
    "    \n",
    "    '''\n",
    "    apply cost to the payer\n",
    "    internal_mode: 1 if the cost is from the csv file\n",
    "                   0 if the cost is from user input\n",
    "    ''' \n",
    "    def apply_cost(cost_points, payer, internal_mode=1):\n",
    "        if (internal_mode):\n",
    "            selected_data = data[(data['payer'] == payer) & (data['points'] > 0)]\n",
    "        else:\n",
    "            selected_data = data[(data['points'] > 0)]\n",
    "        for index, row in selected_data.iterrows():\n",
    "            left_points = row.points + cost_points\n",
    "            if left_points < 0:\n",
    "                cost_points = left_points\n",
    "                data.drop(index, inplace=True)\n",
    "            else:\n",
    "                data.at[index, 'points'] = left_points\n",
    "                cost_points = 0\n",
    "                if (internal_mode): data.drop(cost_index, inplace=True)\n",
    "                break\n",
    "        return cost_points\n",
    "\n",
    "    # for each cost from the file, deduct the corresponding payer\n",
    "    for cost_index, cost_row in cost.iterrows():\n",
    "        payer, cost_points = cost_row.payer, cost_row.points\n",
    "        remaining_points = apply_cost(cost_points, payer)\n",
    "        if remaining_points != 0:\n",
    "            raise ValueError(\"Error: Cost is invalid. There is not enough points in payer. \")\n",
    "\n",
    "    remaining_points = apply_cost(input_cost, '', 0)\n",
    "    if remaining_points != 0:\n",
    "        raise ValueError(\"Error: Cost is invalid. There is not enough points in payer. \")\n",
    "\n",
    "\n",
    "    result = {key: data[(data['payer'] == key)]['points'].sum() for key in payers}\n",
    "    # print(data)\n",
    "    print(result)\n",
    "    "
   ]
  },
  {
   "cell_type": "code",
   "execution_count": null,
   "id": "aa24ea33",
   "metadata": {},
   "outputs": [],
   "source": []
  }
 ],
 "metadata": {
  "kernelspec": {
   "display_name": "Python 3",
   "language": "python",
   "name": "python3"
  },
  "language_info": {
   "codemirror_mode": {
    "name": "ipython",
    "version": 3
   },
   "file_extension": ".py",
   "mimetype": "text/x-python",
   "name": "python",
   "nbconvert_exporter": "python",
   "pygments_lexer": "ipython3",
   "version": "3.8.8"
  }
 },
 "nbformat": 4,
 "nbformat_minor": 5
}
